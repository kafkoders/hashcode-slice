{
 "cells": [
  {
   "cell_type": "code",
   "execution_count": 1,
   "metadata": {
    "colab": {},
    "colab_type": "code",
    "id": "WxKgsUJZKl4F"
   },
   "outputs": [],
   "source": [
    "import sys"
   ]
  },
  {
   "cell_type": "code",
   "execution_count": 2,
   "metadata": {
    "colab": {},
    "colab_type": "code",
    "id": "ZLmeqX29Kjmi"
   },
   "outputs": [],
   "source": [
    "class Pizza:\n",
    "    \"\"\"\n",
    "    A pizza of the input (.in) files.\n",
    "    The id is the position in the file and the slices is the value on the file\n",
    "    \"\"\"\n",
    "\n",
    "    def __init__(self, id: int, slices: int):\n",
    "        self.id = id\n",
    "        self.slices = slices\n",
    "\n",
    "    def __str__(self):\n",
    "        return f\"({self.id}, {self.slices})\""
   ]
  },
  {
   "cell_type": "code",
   "execution_count": 3,
   "metadata": {
    "colab": {},
    "colab_type": "code",
    "id": "GgFugmxPKqev"
   },
   "outputs": [],
   "source": [
    "class PizzaSet:\n",
    "    \"\"\"\n",
    "    Data found on a (.in) file: the file, number of pizzas, maximum number of slices and the pizzas\n",
    "    \"\"\"\n",
    "\n",
    "    def __init__(self, file:str):\n",
    "        \"\"\"\n",
    "        Create and loads a file's information into a PizzaSet\n",
    "        \"\"\"\n",
    "        self.file = file\n",
    "        self.pizzas = None\n",
    "        self.num_pizzas = 0\n",
    "        self.max_slices = 0\n",
    "        self._load()\n",
    "\n",
    "    def _load(self):\n",
    "        \"\"\"\n",
    "        Loads the file's information into a PizzaSet\n",
    "        \"\"\"\n",
    "        with open(self.file) as f:\n",
    "            for i, line in enumerate(f):\n",
    "                spitted = line.split()\n",
    "                if i == 0:\n",
    "                    self.max_slices = int(spitted[0])\n",
    "                    self.num_pizzas = int(spitted[1])\n",
    "                elif i == 1:\n",
    "                    self.pizzas = [Pizza(i, int(p)) for i, p in enumerate(spitted)]\n",
    "                elif i > 1:\n",
    "                    break\n",
    "        self.pizzas.sort(key=lambda p: p.id)\n",
    "\n",
    "    def write(self, order):\n",
    "        \"\"\"\n",
    "        Writes a result into a file (.out)\n",
    "        \"\"\"\n",
    "        file = self.file.replace(\"tests\", \"results\")\n",
    "        with open(file.replace(\"in\",\"out\"), 'w+') as f:        \n",
    "            order_str = \"\"\n",
    "            for pizza in order:\n",
    "                order_str = order_str + f\"{pizza.id} \"   \n",
    "            f.write(f\"{len(order)}\\n\")\n",
    "            f.write(f\"{order_str}\")"
   ]
  },
  {
   "cell_type": "code",
   "execution_count": 4,
   "metadata": {
    "colab": {},
    "colab_type": "code",
    "id": "qSLakxzUKVtD"
   },
   "outputs": [],
   "source": [
    "class PizzaSelector:\n",
    "    \"\"\"\n",
    "    The implementation of the pizza selection algorithm\n",
    "    \"\"\"\n",
    "\n",
    "    def __init__(self):\n",
    "        self.order = None\n",
    "        self.file = None\n",
    "        self.pizza_set = None\n",
    "        self.score = 0\n",
    "\n",
    "    def _clear(self):\n",
    "        \"\"\"\n",
    "        Clear selector's data of other executions\n",
    "        \"\"\"\n",
    "        self.order = []\n",
    "        self.score = 0\n",
    "\n",
    "    def run(self, file: str):\n",
    "        \"\"\"\n",
    "        1. calculate the number of slices left\n",
    "        2. select the pizzas that will not be taken\n",
    "            2.1. while there are slices to be removed and it has not been iterated n times\n",
    "                 NOTE: n is the number of pizzas in the file -> with this number every pizza has the opportunity \n",
    "                    to be selected.\n",
    "            2.2. select pizza with minimum error between pizza's slices and the current left slices\n",
    "            2.3. update the slices_to_delete (current left slices) with the selected pizza\n",
    "            2.4. add the pizza to pizzas_to_delete list and delete pizza from the PizzaSet (to not be choosen again)\n",
    "        3. create the pizza order with all pizzas except the pizzas in the pizzas_to_delete list\n",
    "        4. calcualte score with the pizza order list\n",
    "        \"\"\"\n",
    "        # initialize\n",
    "        self._clear()\n",
    "        self.file = file\n",
    "        self.pizza_set = PizzaSet(file)\n",
    "        # calculate slices to delete\n",
    "        total_number_of_slices = sum(p.slices for p in self.pizza_set.pizzas)\n",
    "        slices_to_delete = total_number_of_slices - self.pizza_set.max_slices\n",
    "        # obtain the pizzas to delete\n",
    "        i = 0\n",
    "        pizzas_to_delete = []\n",
    "        while (slices_to_delete > 0) and (i < self.pizza_set.num_pizzas):\n",
    "            i += 1\n",
    "            selected_pizza = self._get_pizza_with_minimum_error(slices_to_delete)\n",
    "            slices_to_delete -= selected_pizza.slices\n",
    "            pizzas_to_delete.append(selected_pizza)\n",
    "            self.pizza_set.pizzas.remove(selected_pizza)\n",
    "\n",
    "        # create order with all pizzas except the pizzas to delete\n",
    "        self.order = [p for p in self.pizza_set.pizzas if p not in pizzas_to_delete]\n",
    "        # calculate number of slices (score)\n",
    "        self.score = sum(p.slices for p in self.order)\n",
    "\n",
    "    def _get_pizza_with_minimum_error(self, slices_to_delete):\n",
    "        \"\"\"\n",
    "        Take the pizza that has the minimun difference in slices with the slices_to_delete\n",
    "        \"\"\"\n",
    "        # initialize the select pizza to none and the error to the maximum value\n",
    "        selected_pizza = None\n",
    "        current_error = sys.maxsize\n",
    "        # select the pizza with minimun errror in slices with the slices to delete\n",
    "        for pizza in self.pizza_set.pizzas:\n",
    "            if abs(slices_to_delete - pizza.slices) < current_error:\n",
    "                selected_pizza = pizza\n",
    "                current_error = abs(slices_to_delete - selected_pizza.slices)\n",
    "        return selected_pizza\n",
    "\n",
    "    def write(self):\n",
    "        \"\"\"\n",
    "        Write the result to file (.out)\n",
    "        \"\"\"\n",
    "        self.pizza_set.write(self.order)"
   ]
  },
  {
   "cell_type": "code",
   "execution_count": 5,
   "metadata": {
    "colab": {},
    "colab_type": "code",
    "id": "p902moigKt2C"
   },
   "outputs": [],
   "source": [
    "def test(file):\n",
    "    pizza_selector = PizzaSelector()\n",
    "    pizza_selector.run(file)\n",
    "    pizza_selector.write()\n",
    "    print(f\"{file}\")\n",
    "    \n",
    "    print(\"\\t percentage: {0:.7f}%\".format(pizza_selector.score * 100 / pizza_selector.pizza_set.max_slices))\n",
    "    print(f\"\\t score: {pizza_selector.score}\")\n",
    "    print(f\"\\t max number of slices: {pizza_selector.pizza_set.max_slices}\")\n",
    "    print(f\"\\t number of pizzas: {pizza_selector.pizza_set.num_pizzas}\")\n",
    "    print(f\"\\t number of ordered pizzas: {len(pizza_selector.order)}\")\n",
    "    print(\"=====================================================\")\n",
    "    \n",
    "    return pizza_selector.score\n"
   ]
  },
  {
   "cell_type": "code",
   "execution_count": 6,
   "metadata": {
    "colab": {
     "base_uri": "https://localhost:8080/",
     "height": 374
    },
    "colab_type": "code",
    "id": "mcpXTjRqKx9_",
    "outputId": "3da5c1ad-299b-4bcc-f17d-6d77d7fb9792"
   },
   "outputs": [
    {
     "name": "stdout",
     "output_type": "stream",
     "text": [
      "a_example.in\n",
      "\t percentage: 94.1176471%\n",
      "\t score: 16\n",
      "\t max number of slices: 17\n",
      "\t number of pizzas: 4\n",
      "\t number of ordered pizzas: 3\n",
      "=====================================================\n",
      "b_small.in\n",
      "\t percentage: 98.0000000%\n",
      "\t score: 98\n",
      "\t max number of slices: 100\n",
      "\t number of pizzas: 10\n",
      "\t number of ordered pizzas: 5\n",
      "=====================================================\n",
      "c_medium.in\n",
      "\t percentage: 99.9111111%\n",
      "\t score: 4496\n",
      "\t max number of slices: 4500\n",
      "\t number of pizzas: 50\n",
      "\t number of ordered pizzas: 48\n",
      "=====================================================\n",
      "d_quite_big.in\n",
      "\t percentage: 99.9999989%\n",
      "\t score: 999999989\n",
      "\t max number of slices: 1000000000\n",
      "\t number of pizzas: 2000\n",
      "\t number of ordered pizzas: 1990\n",
      "=====================================================\n",
      "e_also_big.in\n",
      "\t percentage: 99.9999570%\n",
      "\t score: 504999783\n",
      "\t max number of slices: 505000000\n",
      "\t number of pizzas: 10000\n",
      "\t number of ordered pizzas: 8172\n",
      "=====================================================\n",
      "TOTAL SCORE:  1505004382\n",
      "Is a record (> 1505004318):  True\n"
     ]
    }
   ],
   "source": [
    "    score = 0\n",
    "    score += test('a_example.in')\n",
    "    score += test('b_small.in')\n",
    "    score += test('c_medium.in')\n",
    "    score += test('d_quite_big.in')\n",
    "    score += test('e_also_big.in')\n",
    "\n",
    "    print(\"TOTAL SCORE: \", score)\n",
    "    print(\"Is a record (> 1505004318): \", score > 1505004318)\n"
   ]
  }
 ],
 "metadata": {
  "colab": {
   "name": "hashcode2020.ipynb",
   "provenance": []
  },
  "kernelspec": {
   "display_name": "Python 3",
   "language": "python",
   "name": "python3"
  },
  "language_info": {
   "codemirror_mode": {
    "name": "ipython",
    "version": 3
   },
   "file_extension": ".py",
   "mimetype": "text/x-python",
   "name": "python",
   "nbconvert_exporter": "python",
   "pygments_lexer": "ipython3",
   "version": "3.7.3"
  }
 },
 "nbformat": 4,
 "nbformat_minor": 1
}
