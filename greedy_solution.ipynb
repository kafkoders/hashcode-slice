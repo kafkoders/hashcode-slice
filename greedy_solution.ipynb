{
 "cells": [
  {
   "cell_type": "code",
   "execution_count": 1,
   "metadata": {},
   "outputs": [],
   "source": [
    "file = 'data/e_also_big'"
   ]
  },
  {
   "cell_type": "code",
   "execution_count": 2,
   "metadata": {},
   "outputs": [],
   "source": [
    "with open(f'{file}.in', 'r') as f:\n",
    "    lines = f.readlines()\n",
    "    first_line = lines[0].strip().split(' ')\n",
    "    second_line = lines[1].strip().split(' ')"
   ]
  },
  {
   "cell_type": "code",
   "execution_count": 3,
   "metadata": {},
   "outputs": [],
   "source": [
    "max_slices, diff_types = list(map(int, first_line))"
   ]
  },
  {
   "cell_type": "code",
   "execution_count": 4,
   "metadata": {},
   "outputs": [],
   "source": [
    "pizzas = list(map(int, second_line))"
   ]
  },
  {
   "cell_type": "code",
   "execution_count": 5,
   "metadata": {},
   "outputs": [],
   "source": [
    "class Pizza(object):\n",
    "    def __init__(self, id_, slices):\n",
    "        self.id_ = id_\n",
    "        self.slices = slices\n",
    "    \n",
    "    def __str__(self):\n",
    "        return f\"Pizza {self.id_} has {self.slices} slices.\"\n",
    "    \n",
    "    def __lt__(self, other):\n",
    "         return self.slices > other.slices"
   ]
  },
  {
   "cell_type": "code",
   "execution_count": 6,
   "metadata": {},
   "outputs": [],
   "source": [
    "total_pizzas = list()"
   ]
  },
  {
   "cell_type": "code",
   "execution_count": 7,
   "metadata": {},
   "outputs": [],
   "source": [
    "for index, pizza in enumerate(pizzas):\n",
    "    total_pizzas.append(Pizza(index, pizza))"
   ]
  },
  {
   "cell_type": "code",
   "execution_count": 8,
   "metadata": {},
   "outputs": [],
   "source": [
    "total_pizzas.sort()"
   ]
  },
  {
   "cell_type": "code",
   "execution_count": 9,
   "metadata": {},
   "outputs": [],
   "source": [
    "result = list()\n",
    "total_slices = list()"
   ]
  },
  {
   "cell_type": "code",
   "execution_count": 10,
   "metadata": {},
   "outputs": [],
   "source": [
    "for pizza in total_pizzas:\n",
    "    total_slices.append(pizza.slices)\n",
    "    if sum(total_slices) < max_slices:\n",
    "        result.append(pizza.id_)\n",
    "    else:\n",
    "        total_slices.pop()"
   ]
  },
  {
   "cell_type": "code",
   "execution_count": 11,
   "metadata": {},
   "outputs": [],
   "source": [
    "sol = list()\n",
    "\n",
    "for pizza in total_pizzas:\n",
    "    for res in result:\n",
    "        if pizza.id_ == res:\n",
    "            sol.append(pizza.slices)"
   ]
  },
  {
   "cell_type": "code",
   "execution_count": 12,
   "metadata": {},
   "outputs": [
    {
     "data": {
      "text/plain": [
       "(505000000, 504999983)"
      ]
     },
     "execution_count": 12,
     "metadata": {},
     "output_type": "execute_result"
    }
   ],
   "source": [
    "max_slices, sum(sol)"
   ]
  },
  {
   "cell_type": "code",
   "execution_count": 13,
   "metadata": {},
   "outputs": [],
   "source": [
    "result = list(map(str, result))"
   ]
  },
  {
   "cell_type": "code",
   "execution_count": 14,
   "metadata": {},
   "outputs": [],
   "source": [
    "with open(f'{file}.out', 'w') as f:\n",
    "    f.write(f\"{len(result)}\")\n",
    "    f.write(\"\\n\")\n",
    "    f.write(f\"{' '.join(result)}\")"
   ]
  }
 ],
 "metadata": {
  "kernelspec": {
   "display_name": "Python 3",
   "language": "python",
   "name": "python3"
  },
  "language_info": {
   "codemirror_mode": {
    "name": "ipython",
    "version": 3
   },
   "file_extension": ".py",
   "mimetype": "text/x-python",
   "name": "python",
   "nbconvert_exporter": "python",
   "pygments_lexer": "ipython3",
   "version": "3.7.5"
  }
 },
 "nbformat": 4,
 "nbformat_minor": 2
}
